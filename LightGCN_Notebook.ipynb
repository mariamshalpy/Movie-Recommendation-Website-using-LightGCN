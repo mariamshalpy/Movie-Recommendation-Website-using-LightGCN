{
  "nbformat": 4,
  "nbformat_minor": 0,
  "metadata": {
    "colab": {
      "provenance": []
    },
    "kernelspec": {
      "name": "python3",
      "display_name": "Python 3"
    },
    "language_info": {
      "name": "python"
    }
  },
  "cells": [
    {
      "cell_type": "markdown",
      "metadata": {
        "id": "aW8d9qJvG5f4"
      },
      "source": [
        "# **1. Import Libraries and Data**\n",
        "----"
      ]
    },
    {
      "cell_type": "code",
      "source": [
        "!pip install torch_geometric"
      ],
      "metadata": {
        "colab": {
          "base_uri": "https://localhost:8080/"
        },
        "id": "IGgIq5ulL8_0",
        "outputId": "6cc33a42-5425-490a-dc1f-4ff854480ea4"
      },
      "execution_count": 1,
      "outputs": [
        {
          "output_type": "stream",
          "name": "stdout",
          "text": [
            "Collecting torch_geometric\n",
            "  Downloading torch_geometric-2.6.1-py3-none-any.whl.metadata (63 kB)\n",
            "\u001b[?25l     \u001b[90m━━━━━━━━━━━━━━━━━━━━━━━━━━━━━━━━━━━━━━━━\u001b[0m \u001b[32m0.0/63.1 kB\u001b[0m \u001b[31m?\u001b[0m eta \u001b[36m-:--:--\u001b[0m\r\u001b[2K     \u001b[91m━━━━━━━━━━━━━━━━━━━━━━━━━━━━━━━━━━━━━━\u001b[0m\u001b[91m╸\u001b[0m\u001b[90m━\u001b[0m \u001b[32m61.4/63.1 kB\u001b[0m \u001b[31m2.4 MB/s\u001b[0m eta \u001b[36m0:00:01\u001b[0m\r\u001b[2K     \u001b[90m━━━━━━━━━━━━━━━━━━━━━━━━━━━━━━━━━━━━━━━━\u001b[0m \u001b[32m63.1/63.1 kB\u001b[0m \u001b[31m1.3 MB/s\u001b[0m eta \u001b[36m0:00:00\u001b[0m\n",
            "\u001b[?25hRequirement already satisfied: aiohttp in /usr/local/lib/python3.10/dist-packages (from torch_geometric) (3.10.8)\n",
            "Requirement already satisfied: fsspec in /usr/local/lib/python3.10/dist-packages (from torch_geometric) (2024.6.1)\n",
            "Requirement already satisfied: jinja2 in /usr/local/lib/python3.10/dist-packages (from torch_geometric) (3.1.4)\n",
            "Requirement already satisfied: numpy in /usr/local/lib/python3.10/dist-packages (from torch_geometric) (1.26.4)\n",
            "Requirement already satisfied: psutil>=5.8.0 in /usr/local/lib/python3.10/dist-packages (from torch_geometric) (5.9.5)\n",
            "Requirement already satisfied: pyparsing in /usr/local/lib/python3.10/dist-packages (from torch_geometric) (3.1.4)\n",
            "Requirement already satisfied: requests in /usr/local/lib/python3.10/dist-packages (from torch_geometric) (2.32.3)\n",
            "Requirement already satisfied: tqdm in /usr/local/lib/python3.10/dist-packages (from torch_geometric) (4.66.5)\n",
            "Requirement already satisfied: aiohappyeyeballs>=2.3.0 in /usr/local/lib/python3.10/dist-packages (from aiohttp->torch_geometric) (2.4.3)\n",
            "Requirement already satisfied: aiosignal>=1.1.2 in /usr/local/lib/python3.10/dist-packages (from aiohttp->torch_geometric) (1.3.1)\n",
            "Requirement already satisfied: attrs>=17.3.0 in /usr/local/lib/python3.10/dist-packages (from aiohttp->torch_geometric) (24.2.0)\n",
            "Requirement already satisfied: frozenlist>=1.1.1 in /usr/local/lib/python3.10/dist-packages (from aiohttp->torch_geometric) (1.4.1)\n",
            "Requirement already satisfied: multidict<7.0,>=4.5 in /usr/local/lib/python3.10/dist-packages (from aiohttp->torch_geometric) (6.1.0)\n",
            "Requirement already satisfied: yarl<2.0,>=1.12.0 in /usr/local/lib/python3.10/dist-packages (from aiohttp->torch_geometric) (1.13.1)\n",
            "Requirement already satisfied: async-timeout<5.0,>=4.0 in /usr/local/lib/python3.10/dist-packages (from aiohttp->torch_geometric) (4.0.3)\n",
            "Requirement already satisfied: MarkupSafe>=2.0 in /usr/local/lib/python3.10/dist-packages (from jinja2->torch_geometric) (2.1.5)\n",
            "Requirement already satisfied: charset-normalizer<4,>=2 in /usr/local/lib/python3.10/dist-packages (from requests->torch_geometric) (3.3.2)\n",
            "Requirement already satisfied: idna<4,>=2.5 in /usr/local/lib/python3.10/dist-packages (from requests->torch_geometric) (3.10)\n",
            "Requirement already satisfied: urllib3<3,>=1.21.1 in /usr/local/lib/python3.10/dist-packages (from requests->torch_geometric) (2.2.3)\n",
            "Requirement already satisfied: certifi>=2017.4.17 in /usr/local/lib/python3.10/dist-packages (from requests->torch_geometric) (2024.8.30)\n",
            "Requirement already satisfied: typing-extensions>=4.1.0 in /usr/local/lib/python3.10/dist-packages (from multidict<7.0,>=4.5->aiohttp->torch_geometric) (4.12.2)\n",
            "Downloading torch_geometric-2.6.1-py3-none-any.whl (1.1 MB)\n",
            "\u001b[2K   \u001b[90m━━━━━━━━━━━━━━━━━━━━━━━━━━━━━━━━━━━━━━━━\u001b[0m \u001b[32m1.1/1.1 MB\u001b[0m \u001b[31m15.1 MB/s\u001b[0m eta \u001b[36m0:00:00\u001b[0m\n",
            "\u001b[?25hInstalling collected packages: torch_geometric\n",
            "Successfully installed torch_geometric-2.6.1\n"
          ]
        }
      ]
    },
    {
      "cell_type": "code",
      "source": [
        "import torch\n",
        "import torch.nn as nn\n",
        "import torch.nn.functional as F\n",
        "import pandas as pd\n",
        "import numpy as np\n",
        "from sklearn.model_selection import train_test_split\n",
        "from sklearn import preprocessing as pp\n",
        "from torch_geometric.nn.conv import MessagePassing\n",
        "from torch_geometric.utils import degree\n",
        "import random\n",
        "from tqdm import tqdm\n",
        "import matplotlib.pyplot as plt"
      ],
      "metadata": {
        "id": "DNb5g25PHD6M"
      },
      "execution_count": 2,
      "outputs": []
    },
    {
      "cell_type": "code",
      "source": [
        "!wget https://files.grouplens.org/datasets/movielens/ml-latest-small.zip\n",
        "!unzip ml-latest-small.zip"
      ],
      "metadata": {
        "colab": {
          "base_uri": "https://localhost:8080/"
        },
        "id": "KRuPY-ogMRlJ",
        "outputId": "64575522-5dd2-448c-eb6f-2757ef2f2213"
      },
      "execution_count": 3,
      "outputs": [
        {
          "output_type": "stream",
          "name": "stdout",
          "text": [
            "--2024-10-06 03:55:55--  https://files.grouplens.org/datasets/movielens/ml-latest-small.zip\n",
            "Resolving files.grouplens.org (files.grouplens.org)... 128.101.65.152\n",
            "Connecting to files.grouplens.org (files.grouplens.org)|128.101.65.152|:443... connected.\n",
            "HTTP request sent, awaiting response... 200 OK\n",
            "Length: 978202 (955K) [application/zip]\n",
            "Saving to: ‘ml-latest-small.zip’\n",
            "\n",
            "ml-latest-small.zip 100%[===================>] 955.28K  2.29MB/s    in 0.4s    \n",
            "\n",
            "2024-10-06 03:55:56 (2.29 MB/s) - ‘ml-latest-small.zip’ saved [978202/978202]\n",
            "\n",
            "Archive:  ml-latest-small.zip\n",
            "   creating: ml-latest-small/\n",
            "  inflating: ml-latest-small/links.csv  \n",
            "  inflating: ml-latest-small/tags.csv  \n",
            "  inflating: ml-latest-small/ratings.csv  \n",
            "  inflating: ml-latest-small/README.txt  \n",
            "  inflating: ml-latest-small/movies.csv  \n"
          ]
        }
      ]
    },
    {
      "cell_type": "code",
      "source": [
        "device = torch.device(\"cuda:0\" if torch.cuda.is_available() else \"cpu\")"
      ],
      "metadata": {
        "id": "UQlp9qWiHMkn"
      },
      "execution_count": 4,
      "outputs": []
    },
    {
      "cell_type": "markdown",
      "source": [
        "# **2. Define Data Preparing Function**\n",
        "---"
      ],
      "metadata": {
        "id": "iord-4Yz6kea"
      }
    },
    {
      "cell_type": "code",
      "source": [
        "def load_data():\n",
        "    movies_df = pd.read_csv('ml-latest-small/movies.csv', index_col='movieId')\n",
        "    ratings_df = pd.read_csv('ml-latest-small/ratings.csv')\n",
        "    return movies_df, ratings_df"
      ],
      "metadata": {
        "id": "S5XoNaSWHw-i"
      },
      "execution_count": 5,
      "outputs": []
    },
    {
      "cell_type": "code",
      "source": [
        "def preprocess_data(ratings_df):\n",
        "    ratings_df = ratings_df[ratings_df['rating'] >= 3]\n",
        "    train_df, test_df = train_test_split(ratings_df, test_size=0.2, random_state=101)\n",
        "\n",
        "    le_user = pp.LabelEncoder()\n",
        "    le_item = pp.LabelEncoder()\n",
        "    train_df['user_id_idx'] = le_user.fit_transform(train_df['userId'].values)\n",
        "    train_df['item_id_idx'] = le_item.fit_transform(train_df['movieId'].values)\n",
        "\n",
        "    train_user_ids = train_df['userId'].unique()\n",
        "    train_item_ids = train_df['movieId'].unique()\n",
        "    test_df = test_df[\n",
        "        (test_df['userId'].isin(train_user_ids)) & (test_df['movieId'].isin(train_item_ids))\n",
        "    ]\n",
        "    test_df['user_id_idx'] = le_user.transform(test_df['userId'].values)\n",
        "    test_df['item_id_idx'] = le_item.transform(test_df['movieId'].values)\n",
        "\n",
        "    n_users = train_df['user_id_idx'].nunique()\n",
        "    n_items = train_df['item_id_idx'].nunique()\n",
        "\n",
        "    return train_df, test_df, n_users, n_items, le_user, le_item"
      ],
      "metadata": {
        "id": "Vbk8qCWh6GbQ"
      },
      "execution_count": 6,
      "outputs": []
    },
    {
      "cell_type": "markdown",
      "metadata": {
        "id": "R-hyZ3qigZNy"
      },
      "source": [
        "# **3. Define the Model Architecture**\n",
        "\n",
        "\n",
        "---\n",
        "\n"
      ]
    },
    {
      "cell_type": "code",
      "source": [
        "class LightGCNConv(MessagePassing):\n",
        "    def __init__(self, **kwargs):\n",
        "        super().__init__(aggr='add')\n",
        "\n",
        "    def forward(self, x, edge_index):\n",
        "        from_, to_ = edge_index\n",
        "        deg = degree(to_, x.size(0), dtype=x.dtype)\n",
        "        deg_inv_sqrt = deg.pow(-0.5)\n",
        "        deg_inv_sqrt[deg_inv_sqrt == float('inf')] = 0\n",
        "        norm = deg_inv_sqrt[from_] * deg_inv_sqrt[to_]\n",
        "\n",
        "        return self.propagate(edge_index, x=x, norm=norm)\n",
        "\n",
        "    def message(self, x_j, norm):\n",
        "        return norm.view(-1, 1) * x_j"
      ],
      "metadata": {
        "id": "66eSguFOHZVY"
      },
      "execution_count": 7,
      "outputs": []
    },
    {
      "cell_type": "code",
      "source": [
        "class LightGCN(nn.Module):\n",
        "    def __init__(self, num_users, num_items, latent_dim, num_layers):\n",
        "        super(LightGCN, self).__init__()\n",
        "        self.num_users = num_users\n",
        "        self.num_items = num_items\n",
        "        self.latent_dim = latent_dim\n",
        "        self.num_layers = num_layers\n",
        "\n",
        "        self.embedding = nn.Embedding(num_users + num_items, latent_dim)\n",
        "        self.convs = nn.ModuleList(LightGCNConv() for _ in range(num_layers))\n",
        "\n",
        "        self.init_parameters()\n",
        "\n",
        "    def init_parameters(self):\n",
        "        nn.init.normal_(self.embedding.weight, std=0.1)\n",
        "\n",
        "    def forward(self, edge_index):\n",
        "        emb0 = self.embedding.weight\n",
        "        embs = [emb0]\n",
        "\n",
        "        emb = emb0\n",
        "        for conv in self.convs:\n",
        "            emb = conv(x=emb, edge_index=edge_index)\n",
        "            embs.append(emb)\n",
        "\n",
        "        out = torch.mean(torch.stack(embs, dim=0), dim=0)\n",
        "\n",
        "        return emb0, out\n",
        "\n",
        "    def encode_minibatch(self, users, pos_items, neg_items, edge_index):\n",
        "        emb0, out = self(edge_index)\n",
        "        return (\n",
        "            out[users],\n",
        "            out[pos_items],\n",
        "            out[neg_items],\n",
        "            emb0[users],\n",
        "            emb0[pos_items],\n",
        "            emb0[neg_items]\n",
        "        )"
      ],
      "metadata": {
        "id": "nAgUJhWkHb-L"
      },
      "execution_count": 8,
      "outputs": []
    },
    {
      "cell_type": "markdown",
      "source": [
        "# **4. Define Loss and Metrics**\n",
        "\n",
        "\n",
        "---\n",
        "\n"
      ],
      "metadata": {
        "id": "rNfS3yIx5FT5"
      }
    },
    {
      "cell_type": "code",
      "source": [
        "def compute_bpr_loss(users, users_emb, pos_emb, neg_emb, user_emb0, pos_emb0, neg_emb0):\n",
        "    reg_loss = (1 / 2) * (\n",
        "        user_emb0.norm().pow(2) +\n",
        "        pos_emb0.norm().pow(2) +\n",
        "        neg_emb0.norm().pow(2)\n",
        "    ) / float(len(users))\n",
        "\n",
        "    pos_scores = torch.mul(users_emb, pos_emb).sum(dim=1)\n",
        "    neg_scores = torch.mul(users_emb, neg_emb).sum(dim=1)\n",
        "\n",
        "    bpr_loss = torch.mean(F.softplus(neg_scores - pos_scores))\n",
        "\n",
        "    return bpr_loss, reg_loss"
      ],
      "metadata": {
        "id": "SwaDJH9nHd0T"
      },
      "execution_count": 9,
      "outputs": []
    },
    {
      "cell_type": "code",
      "source": [
        "def get_metrics(user_Embed_wts, item_Embed_wts, n_users, n_items, train_data, test_data, K):\n",
        "    test_user_ids = torch.LongTensor(test_data['user_id_idx'].unique())\n",
        "    relevance_score = torch.matmul(user_Embed_wts, torch.transpose(item_Embed_wts, 0, 1))\n",
        "\n",
        "    i = torch.stack((\n",
        "        torch.LongTensor(train_data['user_id_idx'].values),\n",
        "        torch.LongTensor(train_data['item_id_idx'].values)\n",
        "    ))\n",
        "    v = torch.ones((len(train_data)), dtype=torch.float64)\n",
        "    interactions_t = torch.sparse.FloatTensor(i, v, (n_users, n_items)).to_dense().to(device)\n",
        "\n",
        "    relevance_score = torch.mul(relevance_score, (1 - interactions_t))\n",
        "\n",
        "    topk_relevance_indices = torch.topk(relevance_score, K).indices\n",
        "    topk_relevance_indices_df = pd.DataFrame(topk_relevance_indices.cpu().numpy(), columns=['top_indx_'+str(x+1) for x in range(K)])\n",
        "    topk_relevance_indices_df['user_ID'] = topk_relevance_indices_df.index\n",
        "    topk_relevance_indices_df['top_rlvnt_itm'] = topk_relevance_indices_df[['top_indx_'+str(x+1) for x in range(K)]].values.tolist()\n",
        "    topk_relevance_indices_df = topk_relevance_indices_df[['user_ID','top_rlvnt_itm']]\n",
        "\n",
        "    test_interacted_items = test_data.groupby('user_id_idx')['item_id_idx'].apply(list).reset_index()\n",
        "    metrics_df = pd.merge(test_interacted_items, topk_relevance_indices_df, how='left', left_on='user_id_idx', right_on=['user_ID'])\n",
        "    metrics_df['intrsctn_itm'] = [list(set(a).intersection(b)) for a, b in zip(metrics_df.item_id_idx, metrics_df.top_rlvnt_itm)]\n",
        "\n",
        "    metrics_df['recall'] = metrics_df.apply(lambda x: len(x['intrsctn_itm'])/len(x['item_id_idx']), axis=1)\n",
        "    metrics_df['precision'] = metrics_df.apply(lambda x: len(x['intrsctn_itm'])/K, axis=1)\n",
        "    metrics_df['accuracy'] = metrics_df.apply(lambda x: sum([1 for item in x['intrsctn_itm'] if item in x['item_id_idx']]) / len(x['intrsctn_itm']) if len(x['intrsctn_itm']) > 0 else 0.0, axis=1)\n",
        "\n",
        "    return metrics_df['recall'].mean(), metrics_df['precision'].mean(), metrics_df['accuracy'].mean()"
      ],
      "metadata": {
        "id": "5AyRkRbRHmz5"
      },
      "execution_count": 10,
      "outputs": []
    },
    {
      "cell_type": "markdown",
      "source": [
        "# **5. Define Data Loader**\n",
        "\n",
        "\n",
        "---\n",
        "\n"
      ],
      "metadata": {
        "id": "2iE1MS6C5Yf-"
      }
    },
    {
      "cell_type": "code",
      "source": [
        "def data_loader(data, batch_size, n_usr, n_itm):\n",
        "    def sample_neg(x):\n",
        "        while True:\n",
        "            neg_id = random.randint(0, n_itm - 1)\n",
        "            if neg_id not in x:\n",
        "                return neg_id\n",
        "\n",
        "    interected_items_df = data.groupby('user_id_idx')['item_id_idx'].apply(list).reset_index()\n",
        "    indices = [x for x in range(n_usr)]\n",
        "\n",
        "    if n_usr < batch_size:\n",
        "        users = [random.choice(indices) for _ in range(batch_size)]\n",
        "    else:\n",
        "        users = random.sample(indices, batch_size)\n",
        "    users.sort()\n",
        "    users_df = pd.DataFrame(users, columns=['users'])\n",
        "\n",
        "    interected_items_df = pd.merge(interected_items_df, users_df, how='right', left_on='user_id_idx', right_on='users')\n",
        "    pos_items = interected_items_df['item_id_idx'].apply(lambda x: random.choice(x) if isinstance(x, list) else x).values\n",
        "    neg_items = interected_items_df['item_id_idx'].apply(lambda x: sample_neg(x) if isinstance(x, list) else sample_neg([])).values\n",
        "\n",
        "    return (\n",
        "        torch.LongTensor(list(users)).to(device),\n",
        "        torch.LongTensor(list(pos_items)).to(device) + n_usr,\n",
        "        torch.LongTensor(list(neg_items)).to(device) + n_usr\n",
        "    )"
      ],
      "metadata": {
        "id": "0En2Jd_aHjMl"
      },
      "execution_count": 11,
      "outputs": []
    },
    {
      "cell_type": "markdown",
      "source": [
        "# **5. Training and Evaluation**\n",
        "---"
      ],
      "metadata": {
        "id": "cLPFSKde5ko-"
      }
    },
    {
      "cell_type": "code",
      "source": [
        "def train_and_eval(model, optimizer, train_df, test_df, n_users, n_items, train_edge_index, EPOCHS, BATCH_SIZE, DECAY, K):\n",
        "    loss_list_epoch = []\n",
        "    bpr_loss_list_epoch = []\n",
        "    reg_loss_list_epoch = []\n",
        "    recall_list = []\n",
        "    precision_list = []\n",
        "    accuracy_list = []\n",
        "\n",
        "    for epoch in tqdm(range(EPOCHS)):\n",
        "        n_batch = int(len(train_df)/BATCH_SIZE)\n",
        "\n",
        "        final_loss_list = []\n",
        "        bpr_loss_list = []\n",
        "        reg_loss_list = []\n",
        "\n",
        "        model.train()\n",
        "        for batch_idx in range(n_batch):\n",
        "            optimizer.zero_grad()\n",
        "\n",
        "            users, pos_items, neg_items = data_loader(train_df, BATCH_SIZE, n_users, n_items)\n",
        "            users_emb, pos_emb, neg_emb, userEmb0, posEmb0, negEmb0 = model.encode_minibatch(users, pos_items, neg_items, train_edge_index)\n",
        "\n",
        "            bpr_loss, reg_loss = compute_bpr_loss(\n",
        "                users, users_emb, pos_emb, neg_emb, userEmb0, posEmb0, negEmb0\n",
        "            )\n",
        "            reg_loss = DECAY * reg_loss\n",
        "            final_loss = bpr_loss + reg_loss\n",
        "\n",
        "            final_loss.backward()\n",
        "            optimizer.step()\n",
        "\n",
        "            final_loss_list.append(final_loss.item())\n",
        "            bpr_loss_list.append(bpr_loss.item())\n",
        "            reg_loss_list.append(reg_loss.item())\n",
        "\n",
        "        model.eval()\n",
        "        with torch.no_grad():\n",
        "            _, out = model(train_edge_index)\n",
        "            final_user_Embed, final_item_Embed = torch.split(out, (n_users, n_items))\n",
        "            test_topK_recall, test_topK_precision, test_accuracy = get_metrics(\n",
        "                final_user_Embed, final_item_Embed, n_users, n_items, train_df, test_df, K\n",
        "            )\n",
        "\n",
        "        loss_list_epoch.append(round(np.mean(final_loss_list), 4))\n",
        "        bpr_loss_list_epoch.append(round(np.mean(bpr_loss_list), 4))\n",
        "        reg_loss_list_epoch.append(round(np.mean(reg_loss_list), 4))\n",
        "\n",
        "        recall_list.append(round(test_topK_recall, 4))\n",
        "        precision_list.append(round(test_topK_precision, 4))\n",
        "        accuracy_list.append(round(test_accuracy, 4))\n",
        "\n",
        "    return (\n",
        "        loss_list_epoch,\n",
        "        bpr_loss_list_epoch,\n",
        "        reg_loss_list_epoch,\n",
        "        recall_list,\n",
        "        precision_list,\n",
        "        accuracy_list\n",
        "    )"
      ],
      "metadata": {
        "id": "whQhqQR6HsFX"
      },
      "execution_count": 12,
      "outputs": []
    },
    {
      "cell_type": "code",
      "source": [
        "def plot_metrics(loss_list, bpr_loss_list, reg_loss_list, recall_list, precision_list, accuracy_list, EPOCHS):\n",
        "    epoch_list = [(i + 1) for i in range(EPOCHS)]\n",
        "\n",
        "    plt.figure(figsize=(14, 6))\n",
        "\n",
        "    # Plot losses\n",
        "    plt.subplot(1, 2, 1)\n",
        "    plt.plot(epoch_list, loss_list, label='Total Training Loss')\n",
        "    plt.plot(epoch_list, bpr_loss_list, label='BPR Training Loss')\n",
        "    plt.plot(epoch_list, reg_loss_list, label='Reg Training Loss')\n",
        "    plt.xlabel('Epoch')\n",
        "    plt.ylabel('Loss')\n",
        "    plt.legend()\n",
        "    plt.title('Training Losses')\n",
        "\n",
        "    # Plot metrics\n",
        "    plt.subplot(1, 2, 2)\n",
        "    plt.plot(epoch_list, recall_list, label='Recall')\n",
        "    plt.plot(epoch_list, precision_list, label='Precision')\n",
        "    plt.xlabel('Epoch')\n",
        "    plt.ylabel('Metrics')\n",
        "    plt.legend()\n",
        "    plt.title('Evaluation Metrics')\n",
        "\n",
        "    plt.tight_layout()\n",
        "    plt.show()\n",
        "\n",
        "    print(\"Max Precision:\", max(precision_list))\n",
        "    print(\"Max Recall:\", max(recall_list))\n",
        "    print(\"Final Accuracy:\", accuracy_list[-1])\n",
        "    print(\"Max Accuracy:\", max(accuracy_list))"
      ],
      "metadata": {
        "id": "wB_XSZwg9Lz0"
      },
      "execution_count": 13,
      "outputs": []
    },
    {
      "cell_type": "markdown",
      "source": [
        "# **6. Define Model Functions**\n",
        "---"
      ],
      "metadata": {
        "id": "0bV1ZV6C7m9B"
      }
    },
    {
      "cell_type": "code",
      "source": [
        "def create_edge_index(train_df, n_users):\n",
        "    u_t = torch.LongTensor(train_df.user_id_idx)\n",
        "    i_t = torch.LongTensor(train_df.item_id_idx) + n_users\n",
        "    train_edge_index = torch.stack((\n",
        "        torch.cat([u_t, i_t]),\n",
        "        torch.cat([i_t, u_t])\n",
        "    )).to(device)\n",
        "    return train_edge_index"
      ],
      "metadata": {
        "id": "vPdDtys8H1S6"
      },
      "execution_count": 14,
      "outputs": []
    },
    {
      "cell_type": "code",
      "source": [
        "def update_embeddings(model, user_id, item_id, rating, n_users, learning_rate=0.01):\n",
        "    user_embedding = model.embedding.weight[user_id]\n",
        "    item_embedding = model.embedding.weight[item_id + n_users]\n",
        "\n",
        "    adjustment = (rating - user_embedding.dot(item_embedding)) * learning_rate\n",
        "\n",
        "    with torch.no_grad():\n",
        "        model.embedding.weight[user_id] += adjustment * item_embedding\n",
        "        model.embedding.weight[item_id + n_users] += adjustment * user_embedding\n",
        "\n",
        "\n",
        "def add_new_user_embedding(model, n_users):\n",
        "    with torch.no_grad():\n",
        "        new_embedding = torch.randn(1, model.embedding.weight.size(1), device=model.embedding.weight.device)\n",
        "        model.embedding.weight = nn.Parameter(torch.cat([model.embedding.weight, new_embedding], dim=0))\n",
        "    return n_users + 1"
      ],
      "metadata": {
        "id": "9AZM6JLIH4L_"
      },
      "execution_count": 15,
      "outputs": []
    },
    {
      "cell_type": "code",
      "source": [
        "def get_top_recommendations(user_id, selected_genres, model, movies_df, ratings_df, le_user, le_item, n_users, top_n=10):\n",
        "    filtered_movies = movies_df[movies_df['genres'].apply(lambda x: any(genre in x for genre in selected_genres))]\n",
        "\n",
        "    with torch.no_grad():\n",
        "        all_embeddings = model.embedding.weight\n",
        "\n",
        "    if user_id not in le_user.classes_:\n",
        "        print(f\"New user detected (ID: {user_id}). Adding to the model.\")\n",
        "        n_users = add_new_user_embedding(model, n_users)\n",
        "        le_user.classes_ = np.append(le_user.classes_, user_id)\n",
        "        user_idx = len(le_user.classes_) - 1\n",
        "\n",
        "        # Add the new user to the ratings dataframe\n",
        "        new_user_df = pd.DataFrame({'userId': [user_id], 'user_id_idx': [user_idx]})\n",
        "        ratings_df = pd.concat([ratings_df, new_user_df], ignore_index=True)\n",
        "    else:\n",
        "        user_idx = le_user.transform([user_id])[0]\n",
        "\n",
        "    user_embedding = all_embeddings[user_idx]\n",
        "    item_embeddings = all_embeddings[n_users:n_users + len(movies_df)]\n",
        "\n",
        "    similarities = torch.cosine_similarity(user_embedding.unsqueeze(0), item_embeddings)\n",
        "    top_indices = torch.argsort(similarities, descending=True)[:len(filtered_movies)]\n",
        "\n",
        "    recommended_movie_ids = le_item.inverse_transform(top_indices.cpu().numpy())\n",
        "    recommended_movie_ids = [movie_id for movie_id in recommended_movie_ids if movie_id in filtered_movies.index]\n",
        "    recommendations = filtered_movies.loc[recommended_movie_ids]\n",
        "    recommendations['matching_genres'] = recommendations['genres'].apply(lambda x: sum(genre in x for genre in selected_genres))\n",
        "    recommendations = recommendations.sort_values(by='matching_genres', ascending=False)\n",
        "\n",
        "    return recommendations.head(top_n)[['title', 'genres']], ratings_df"
      ],
      "metadata": {
        "id": "ZrB3ntBHH9IB"
      },
      "execution_count": 16,
      "outputs": []
    },
    {
      "cell_type": "code",
      "source": [
        "def update_model_with_new_rating(model, ratings_df, user_id, movie_id, rating, n_users, le_user, le_item):\n",
        "    if user_id not in le_user.classes_:\n",
        "        print(f\"New user detected (ID: {user_id}). Adding to the model.\")\n",
        "        n_users = add_new_user_embedding(model, n_users)\n",
        "        le_user.classes_ = np.append(le_user.classes_, user_id)\n",
        "        user_idx = len(le_user.classes_) - 1\n",
        "    else:\n",
        "        user_idx = le_user.transform([user_id])[0]\n",
        "\n",
        "    if movie_id not in le_item.classes_:\n",
        "        print(f\"New movie detected (ID: {movie_id}). Adding to the model.\")\n",
        "        with torch.no_grad():\n",
        "            new_item_embedding = torch.randn(1, model.embedding.weight.size(1), device=model.embedding.weight.device)\n",
        "            model.embedding.weight = nn.Parameter(torch.cat([model.embedding.weight, new_item_embedding], dim=0))\n",
        "        le_item.classes_ = np.append(le_item.classes_, movie_id)\n",
        "        item_idx = len(le_item.classes_) - 1\n",
        "    else:\n",
        "        item_idx = le_item.transform([movie_id])[0]\n",
        "\n",
        "    # Update embeddings\n",
        "    update_embeddings(model, user_idx, item_idx, rating, n_users)\n",
        "\n",
        "    # Add new rating to the dataframe\n",
        "    new_rating = pd.DataFrame({\n",
        "        'userId': [user_id],\n",
        "        'movieId': [movie_id],\n",
        "        'rating': [rating],\n",
        "        'timestamp': [pd.Timestamp.now().timestamp()],\n",
        "        'user_id_idx': [user_idx],\n",
        "        'item_id_idx': [item_idx]\n",
        "    })\n",
        "    ratings_df = pd.concat([ratings_df, new_rating], ignore_index=True)\n",
        "\n",
        "    return model, ratings_df, n_users"
      ],
      "metadata": {
        "id": "FdYKNOh-IAIm"
      },
      "execution_count": 17,
      "outputs": []
    },
    {
      "cell_type": "markdown",
      "source": [
        "# **7. Main Function**\n",
        "---"
      ],
      "metadata": {
        "id": "8pP8n05c8BGV"
      }
    },
    {
      "cell_type": "code",
      "source": [
        "def main():\n",
        "    # Load and preprocess data\n",
        "    movies_df, ratings_df = load_data()\n",
        "    train_df, test_df, n_users, n_items, le_user, le_item = preprocess_data(ratings_df)\n",
        "    train_edge_index = create_edge_index(train_df, n_users)\n",
        "\n",
        "    # Model parameters\n",
        "    latent_dim = 64\n",
        "    n_layers = 3\n",
        "    EPOCHS = 50\n",
        "    BATCH_SIZE = 1024\n",
        "    DECAY = 0.0001\n",
        "    LR = 0.001\n",
        "    K = 10\n",
        "\n",
        "    # Initialize and train the model\n",
        "    model = LightGCN(n_users, n_items, latent_dim, n_layers).to(device)\n",
        "    optimizer = torch.optim.Adam(model.parameters(), lr=LR)\n",
        "    loss_list, bpr_loss_list, reg_loss_list, recall_list, precision_list, accuracy_list = train_and_eval(model, optimizer, train_df, test_df, n_users, n_items, train_edge_index, EPOCHS, BATCH_SIZE, DECAY, K)\n",
        "    plot_metrics(loss_list, bpr_loss_list, reg_loss_list, recall_list, precision_list, accuracy_list, EPOCHS)\n",
        "\n",
        "if __name__ == \"__main__\":\n",
        "    main()"
      ],
      "metadata": {
        "colab": {
          "base_uri": "https://localhost:8080/",
          "height": 711
        },
        "id": "RGa5NFDC9bzr",
        "outputId": "c7de08b2-2594-431e-cc7c-ee8aeff9ff74"
      },
      "execution_count": 20,
      "outputs": [
        {
          "output_type": "stream",
          "name": "stderr",
          "text": [
            "100%|██████████| 5/5 [01:21<00:00, 16.31s/it]\n",
            "100%|██████████| 5/5 [01:17<00:00, 15.54s/it]\n"
          ]
        },
        {
          "output_type": "display_data",
          "data": {
            "text/plain": [
              "<Figure size 1400x600 with 2 Axes>"
            ],
            "image/png": "[encoded data removed]"
          },
          "metadata": {}
        },
        {
          "output_type": "stream",
          "name": "stdout",
          "text": [
            "Max Precision: 0.1683\n",
            "Max Recall: 0.1013\n",
            "Final Accuracy: 0.6304\n",
            "Max Accuracy: 0.6304\n"
          ]
        }
      ]
    },
    {
      "cell_type": "code",
      "execution_count": 23,
      "metadata": {
        "colab": {
          "base_uri": "https://localhost:8080/"
        },
        "id": "HQhz5f9bLXNj",
        "outputId": "f57cd868-edd8-45a5-ef9d-f56c34c27308"
      },
      "outputs": [
        {
          "output_type": "stream",
          "name": "stdout",
          "text": [
            "Enter your user ID (or -1 to exit): -1\n",
            "Thank you for using the recommendation system!\n"
          ]
        }
      ],
      "source": [
        "def main():\n",
        "    # Load and preprocess data\n",
        "    movies_df, ratings_df = load_data()\n",
        "    train_df, test_df, n_users, n_items, le_user, le_item = preprocess_data(ratings_df)\n",
        "    train_edge_index = create_edge_index(train_df, n_users)\n",
        "\n",
        "    # Model parameters\n",
        "    latent_dim = 64\n",
        "    n_layers = 3\n",
        "    EPOCHS = 50\n",
        "    BATCH_SIZE = 1024\n",
        "    DECAY = 0.0001\n",
        "    LR = 0.001\n",
        "    K = 10\n",
        "\n",
        "    # Initialize and train the model\n",
        "    model = LightGCN(n_users, n_items, latent_dim, n_layers).to(device)\n",
        "    optimizer = torch.optim.Adam(model.parameters(), lr=LR)\n",
        "    train_and_eval(model, optimizer, train_df, test_df, n_users, n_items, train_edge_index, EPOCHS, BATCH_SIZE, DECAY, K)\n",
        "\n",
        "    while True:\n",
        "        user_id = int(input(\"Enter your user ID (or -1 to exit): \"))\n",
        "        if user_id == -1:\n",
        "            break\n",
        "\n",
        "        available_genres = list(set('|'.join(movies_df['genres']).split('|')))\n",
        "        print(\"Available genres:\", available_genres)\n",
        "        selected_genres = input(\"Enter preferred genres (comma-separated): \").split(',')\n",
        "\n",
        "        recommendations, ratings_df = get_top_recommendations(user_id, selected_genres, model, movies_df, ratings_df, le_user, le_item, n_users)\n",
        "        print(\"Top Recommendations:\")\n",
        "        print(recommendations)\n",
        "\n",
        "        movie_id = int(input(\"Enter the movie ID you want to rate (-1 to skip): \"))\n",
        "        if movie_id != -1:\n",
        "            rating = float(input(\"Enter your rating (0-5): \"))\n",
        "            model, ratings_df, n_users = update_model_with_new_rating(model, ratings_df, user_id, movie_id, rating, n_users, le_user, le_item)\n",
        "            print(\"Rating added and model updated.\")\n",
        "\n",
        "    print(\"Thank you for using the recommendation system!\")\n",
        "\n",
        "if __name__ == \"__main__\":\n",
        "    main()"
      ]
    }
  ]
}